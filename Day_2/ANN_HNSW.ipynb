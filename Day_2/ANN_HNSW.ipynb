{
 "cells": [
  {
   "cell_type": "code",
   "execution_count": 1,
   "metadata": {},
   "outputs": [],
   "source": [
    "import faiss\n",
    "import numpy as np\n",
    "from sklearn.neighbors import NearestNeighbors"
   ]
  },
  {
   "cell_type": "code",
   "execution_count": 2,
   "metadata": {},
   "outputs": [
    {
     "data": {
      "text/plain": [
       "(30400, 2048)"
      ]
     },
     "execution_count": 2,
     "metadata": {},
     "output_type": "execute_result"
    }
   ],
   "source": [
    "embeddings=np.load('output/embeddings.npy')\n",
    "embeddings.shape"
   ]
  },
  {
   "cell_type": "code",
   "execution_count": 3,
   "metadata": {},
   "outputs": [
    {
     "data": {
      "text/plain": [
       "(1, 2048)"
      ]
     },
     "execution_count": 3,
     "metadata": {},
     "output_type": "execute_result"
    }
   ],
   "source": [
    "query_vector = embeddings[40:41]\n",
    "query_vector.shape"
   ]
  },
  {
   "cell_type": "markdown",
   "metadata": {},
   "source": [
    "### Linear search using numpy"
   ]
  },
  {
   "cell_type": "code",
   "execution_count": 18,
   "metadata": {},
   "outputs": [
    {
     "name": "stdout",
     "output_type": "stream",
     "text": [
      "CPU times: user 53.2 ms, sys: 96.7 ms, total: 150 ms\n",
      "Wall time: 149 ms\n"
     ]
    }
   ],
   "source": [
    "%%time\n",
    "k=20\n",
    "# compute distances\n",
    "distances = np.linalg.norm(embeddings - query_vector, axis = 1)\n",
    "# select indices of vectors having the lowest distances from the query vector (sorted!)\n",
    "neighbors = np.argpartition(distances, range(0, k))[:k]"
   ]
  },
  {
   "cell_type": "code",
   "execution_count": 19,
   "metadata": {},
   "outputs": [
    {
     "data": {
      "text/plain": [
       "array([   40,    30, 22512, 23212, 22446, 24105, 22527, 22575, 22525,\n",
       "          34, 22515, 22555, 17436, 22504, 16864, 29565, 14535, 14549,\n",
       "       17016, 22518])"
      ]
     },
     "execution_count": 19,
     "metadata": {},
     "output_type": "execute_result"
    }
   ],
   "source": [
    "neighbors"
   ]
  },
  {
   "cell_type": "markdown",
   "metadata": {},
   "source": [
    "### Search with scikit-learn"
   ]
  },
  {
   "cell_type": "code",
   "execution_count": 7,
   "metadata": {},
   "outputs": [
    {
     "data": {
      "text/plain": [
       "NearestNeighbors(n_neighbors=20)"
      ]
     },
     "execution_count": 7,
     "metadata": {},
     "output_type": "execute_result"
    }
   ],
   "source": [
    "# set desired number of neighbors\n",
    "k=20\n",
    "neigh = NearestNeighbors(n_neighbors=k)\n",
    "neigh.fit(embeddings)\n",
    "# select indices of k nearest neighbors of the vectors in the input list"
   ]
  },
  {
   "cell_type": "code",
   "execution_count": 8,
   "metadata": {},
   "outputs": [
    {
     "name": "stdout",
     "output_type": "stream",
     "text": [
      "CPU times: user 1.5 s, sys: 5.47 s, total: 6.97 s\n",
      "Wall time: 151 ms\n"
     ]
    }
   ],
   "source": [
    "%%time\n",
    "k_neighbors = neigh.kneighbors(query_vector,20, return_distance = False)"
   ]
  },
  {
   "cell_type": "code",
   "execution_count": 9,
   "metadata": {},
   "outputs": [
    {
     "data": {
      "text/plain": [
       "array([ True,  True,  True,  True,  True,  True,  True,  True,  True,\n",
       "        True,  True,  True,  True,  True,  True,  True,  True,  True,\n",
       "        True,  True])"
      ]
     },
     "execution_count": 9,
     "metadata": {},
     "output_type": "execute_result"
    }
   ],
   "source": [
    "np.in1d(neighbors,k_neighbors[0])"
   ]
  },
  {
   "cell_type": "markdown",
   "metadata": {},
   "source": [
    "### FAISSS - Inverted File"
   ]
  },
  {
   "cell_type": "code",
   "execution_count": 10,
   "metadata": {},
   "outputs": [
    {
     "name": "stdout",
     "output_type": "stream",
     "text": [
      "CPU times: user 96.3 ms, sys: 82.1 ms, total: 178 ms\n",
      "Wall time: 178 ms\n"
     ]
    }
   ],
   "source": [
    "%%time\n",
    "dim = 2048\n",
    "index = faiss.index_factory(dim, \"Flat\")\n",
    "index.train(embeddings)\n",
    "index.add(embeddings)\n",
    "factory_distances, factory_neighbors = index.search(query_vector.reshape(1,-1).astype(np.float32), k)"
   ]
  },
  {
   "cell_type": "code",
   "execution_count": 11,
   "metadata": {},
   "outputs": [
    {
     "data": {
      "text/plain": [
       "array([ True,  True,  True,  True,  True,  True,  True,  True,  True,\n",
       "        True,  True,  True,  True,  True,  True,  True,  True,  True,\n",
       "        True,  True])"
      ]
     },
     "execution_count": 11,
     "metadata": {},
     "output_type": "execute_result"
    }
   ],
   "source": [
    "np.in1d(neighbors,factory_neighbors)"
   ]
  },
  {
   "cell_type": "markdown",
   "metadata": {},
   "source": [
    "### FAISS - HNSW"
   ]
  },
  {
   "cell_type": "code",
   "execution_count": 12,
   "metadata": {},
   "outputs": [],
   "source": [
    "conn_vertex = 32 #Connections for each vertex\n",
    "dim = 2048  # dimensionality of output features\n",
    "ef_search = 32\n",
    "ef_construction = 64"
   ]
  },
  {
   "cell_type": "code",
   "execution_count": 13,
   "metadata": {},
   "outputs": [],
   "source": [
    "index = faiss.IndexHNSWFlat(dim,conn_vertex)\n",
    "\n",
    "#Depth of search during build\n",
    "index.hnsw.efSearch =  ef_search\n",
    "\n",
    "#Depth of search during search\n",
    "index.hnsw.efConstruction =  ef_construction\n",
    "\n",
    "index.add(embeddings)"
   ]
  },
  {
   "cell_type": "code",
   "execution_count": 14,
   "metadata": {},
   "outputs": [
    {
     "name": "stdout",
     "output_type": "stream",
     "text": [
      "CPU times: user 840 ms, sys: 6.75 ms, total: 847 ms\n",
      "Wall time: 9.89 ms\n"
     ]
    }
   ],
   "source": [
    "%%time\n",
    "#Number of nearest neighbors to return\n",
    "n = 20\n",
    "hnsw_distance, hnsw_neighbors = index.search(query_vector,n)"
   ]
  },
  {
   "cell_type": "code",
   "execution_count": 15,
   "metadata": {},
   "outputs": [
    {
     "data": {
      "text/plain": [
       "array([ True,  True,  True,  True,  True,  True,  True,  True,  True,\n",
       "        True,  True,  True,  True,  True,  True,  True,  True,  True,\n",
       "        True,  True])"
      ]
     },
     "execution_count": 15,
     "metadata": {},
     "output_type": "execute_result"
    }
   ],
   "source": [
    "np.in1d(neighbors,hnsw_neighbors)"
   ]
  },
  {
   "cell_type": "markdown",
   "metadata": {},
   "source": [
    "### Check filenames"
   ]
  },
  {
   "cell_type": "code",
   "execution_count": 16,
   "metadata": {},
   "outputs": [],
   "source": [
    "with open('output/filenames.txt', 'r') as f:\n",
    "    filenames = eval(f.readline())"
   ]
  },
  {
   "cell_type": "code",
   "execution_count": 17,
   "metadata": {},
   "outputs": [
    {
     "name": "stdout",
     "output_type": "stream",
     "text": [
      "airplane041.jpg\n",
      "airplane031.jpg\n",
      "runway113.jpg\n",
      "runwaymarking013.jpg\n",
      "runway047.jpg\n",
      "shippingyard106.jpg\n",
      "runway128.jpg\n",
      "runway176.jpg\n",
      "runway126.jpg\n",
      "airplane035.jpg\n",
      "runway116.jpg\n",
      "runway156.jpg\n",
      "oilgasfield637.jpg\n",
      "runway105.jpg\n",
      "oilgasfield065.jpg\n",
      "transformerstation766.jpg\n",
      "intersection136.jpg\n",
      "intersection150.jpg\n",
      "oilgasfield217.jpg\n",
      "runway119.jpg\n"
     ]
    }
   ],
   "source": [
    "for i in neighbors:\n",
    "    print(filenames[i])"
   ]
  },
  {
   "cell_type": "code",
   "execution_count": null,
   "metadata": {},
   "outputs": [],
   "source": []
  }
 ],
 "metadata": {
  "interpreter": {
   "hash": "e7370f93d1d0cde622a1f8e1c04877d8463912d04d973331ad4851f04de6915a"
  },
  "kernelspec": {
   "display_name": "Python 3.8.10 64-bit",
   "language": "python",
   "name": "python3"
  },
  "language_info": {
   "codemirror_mode": {
    "name": "ipython",
    "version": 3
   },
   "file_extension": ".py",
   "mimetype": "text/x-python",
   "name": "python",
   "nbconvert_exporter": "python",
   "pygments_lexer": "ipython3",
   "version": "3.8.10"
  },
  "orig_nbformat": 4
 },
 "nbformat": 4,
 "nbformat_minor": 2
}
